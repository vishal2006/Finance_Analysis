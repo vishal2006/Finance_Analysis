{
  "nbformat": 4,
  "nbformat_minor": 0,
  "metadata": {
    "colab": {
      "name": "Finance.ipynb",
      "provenance": [],
      "collapsed_sections": []
    },
    "kernelspec": {
      "name": "python3",
      "display_name": "Python 3"
    },
    "language_info": {
      "name": "python"
    }
  },
  "cells": [
    {
      "cell_type": "code",
      "execution_count": 82,
      "metadata": {
        "id": "UeCqBcHKG-gS"
      },
      "outputs": [],
      "source": [
        "import pandas as pd\n",
        "from sklearn.utils import resample\n",
        "from sklearn.model_selection import train_test_split\n",
        "from sklearn.linear_model import LogisticRegression\n",
        "from sklearn.metrics import f1_score\n",
        "from sklearn.naive_bayes import GaussianNB\n",
        "from sklearn import svm\n",
        "from sklearn.svm import LinearSVC\n",
        "from sklearn.ensemble import RandomForestClassifier\n",
        "import keras\n",
        "import tensorflow as tf\n",
        "from keras.models import Sequential\n",
        "from keras.layers import Dense, Flatten\n",
        "from keras.layers import Dropout, BatchNormalization\n",
        "from keras import backend as K\n",
        "from keras.utils.np_utils import to_categorical\n",
        "import xgboost as xgb\n",
        "from sklearn.metrics import confusion_matrix\n",
        "from sklearn.ensemble import IsolationForest\n",
        "import numpy as np\n",
        "import matplotlib.pyplot as plt\n",
        "import seaborn as sns\n",
        "import matplotlib\n",
        "from sklearn.mixture import GaussianMixture"
      ]
    },
    {
      "cell_type": "code",
      "source": [
        "df=pd.read_csv('/content/train_data.csv',sep=',')"
      ],
      "metadata": {
        "id": "1Q7969FMHR2t"
      },
      "execution_count": 83,
      "outputs": []
    },
    {
      "cell_type": "code",
      "source": [
        "df.isna().sum()"
      ],
      "metadata": {
        "colab": {
          "base_uri": "https://localhost:8080/"
        },
        "id": "QGOXJqebWESC",
        "outputId": "a16321bb-e51e-4fc6-df08-aeddb30c0b51"
      },
      "execution_count": 84,
      "outputs": [
        {
          "output_type": "execute_result",
          "data": {
            "text/plain": [
              "Time      0\n",
              "V1        0\n",
              "V2        0\n",
              "V3        0\n",
              "V4        0\n",
              "V5        0\n",
              "V6        0\n",
              "V7        0\n",
              "V8        0\n",
              "V9        0\n",
              "V10       0\n",
              "V11       0\n",
              "V12       0\n",
              "V13       0\n",
              "V14       0\n",
              "V15       0\n",
              "V16       0\n",
              "V17       0\n",
              "V18       0\n",
              "V19       0\n",
              "V20       0\n",
              "V21       0\n",
              "V22       0\n",
              "V23       0\n",
              "V24       0\n",
              "V25       0\n",
              "V26       0\n",
              "V27       0\n",
              "V28       0\n",
              "Amount    0\n",
              "Class     0\n",
              "dtype: int64"
            ]
          },
          "metadata": {},
          "execution_count": 84
        }
      ]
    },
    {
      "cell_type": "code",
      "source": [
        "df.shape"
      ],
      "metadata": {
        "colab": {
          "base_uri": "https://localhost:8080/"
        },
        "id": "t7O3jqVMHRzR",
        "outputId": "bdc2f887-b3f1-493f-e3f1-31fcf79ee56d"
      },
      "execution_count": 85,
      "outputs": [
        {
          "output_type": "execute_result",
          "data": {
            "text/plain": [
              "(227845, 31)"
            ]
          },
          "metadata": {},
          "execution_count": 85
        }
      ]
    },
    {
      "cell_type": "code",
      "source": [
        "df.head(5)"
      ],
      "metadata": {
        "colab": {
          "base_uri": "https://localhost:8080/",
          "height": 299
        },
        "id": "Zc0Gz31dHRxN",
        "outputId": "df55087d-3cd7-40e3-9133-1d21cc1053d9"
      },
      "execution_count": 86,
      "outputs": [
        {
          "output_type": "execute_result",
          "data": {
            "text/plain": [
              "       Time        V1        V2        V3        V4        V5        V6  \\\n",
              "0   38355.0  1.043949  0.318555  1.045810  2.805989 -0.561113 -0.367956   \n",
              "1   22555.0 -1.665159  0.808440  1.805627  1.903416 -0.821627  0.934790   \n",
              "2    2431.0 -0.324096  0.601836  0.865329 -2.138000  0.294663 -1.251553   \n",
              "3   86773.0 -0.258270  1.217501 -0.585348 -0.875347  1.222481 -0.311027   \n",
              "4  127202.0  2.142162 -0.494988 -1.936511 -0.818288 -0.025213 -1.027245   \n",
              "\n",
              "         V7        V8        V9  ...       V21       V22       V23       V24  \\\n",
              "0  0.032736 -0.042333 -0.322674  ... -0.240105 -0.680315  0.085328  0.684812   \n",
              "1 -0.824802  0.975890  1.747469  ... -0.335332 -0.510994  0.035839  0.147565   \n",
              "2  1.072114 -0.334896  1.071268  ...  0.012220  0.352856 -0.341505 -0.145791   \n",
              "3  1.073860 -0.161408  0.200665  ... -0.424626 -0.781158  0.019316  0.178614   \n",
              "4 -0.151627 -0.305750 -0.869482  ...  0.010115  0.021722  0.079463 -0.480899   \n",
              "\n",
              "        V25       V26       V27       V28  Amount  Class  \n",
              "0  0.318620 -0.204963  0.001662  0.037894   49.67      0  \n",
              "1 -0.529358 -0.566950 -0.595998 -0.220086   16.94      0  \n",
              "2  0.094194 -0.804026  0.229428 -0.021623    1.00      0  \n",
              "3 -0.315616  0.096665  0.269740 -0.020635   10.78      0  \n",
              "4  0.023846 -0.279076 -0.030121 -0.043888   39.96      0  \n",
              "\n",
              "[5 rows x 31 columns]"
            ],
            "text/html": [
              "\n",
              "  <div id=\"df-6c865670-d608-41ed-a1fb-b423f4208f81\">\n",
              "    <div class=\"colab-df-container\">\n",
              "      <div>\n",
              "<style scoped>\n",
              "    .dataframe tbody tr th:only-of-type {\n",
              "        vertical-align: middle;\n",
              "    }\n",
              "\n",
              "    .dataframe tbody tr th {\n",
              "        vertical-align: top;\n",
              "    }\n",
              "\n",
              "    .dataframe thead th {\n",
              "        text-align: right;\n",
              "    }\n",
              "</style>\n",
              "<table border=\"1\" class=\"dataframe\">\n",
              "  <thead>\n",
              "    <tr style=\"text-align: right;\">\n",
              "      <th></th>\n",
              "      <th>Time</th>\n",
              "      <th>V1</th>\n",
              "      <th>V2</th>\n",
              "      <th>V3</th>\n",
              "      <th>V4</th>\n",
              "      <th>V5</th>\n",
              "      <th>V6</th>\n",
              "      <th>V7</th>\n",
              "      <th>V8</th>\n",
              "      <th>V9</th>\n",
              "      <th>...</th>\n",
              "      <th>V21</th>\n",
              "      <th>V22</th>\n",
              "      <th>V23</th>\n",
              "      <th>V24</th>\n",
              "      <th>V25</th>\n",
              "      <th>V26</th>\n",
              "      <th>V27</th>\n",
              "      <th>V28</th>\n",
              "      <th>Amount</th>\n",
              "      <th>Class</th>\n",
              "    </tr>\n",
              "  </thead>\n",
              "  <tbody>\n",
              "    <tr>\n",
              "      <th>0</th>\n",
              "      <td>38355.0</td>\n",
              "      <td>1.043949</td>\n",
              "      <td>0.318555</td>\n",
              "      <td>1.045810</td>\n",
              "      <td>2.805989</td>\n",
              "      <td>-0.561113</td>\n",
              "      <td>-0.367956</td>\n",
              "      <td>0.032736</td>\n",
              "      <td>-0.042333</td>\n",
              "      <td>-0.322674</td>\n",
              "      <td>...</td>\n",
              "      <td>-0.240105</td>\n",
              "      <td>-0.680315</td>\n",
              "      <td>0.085328</td>\n",
              "      <td>0.684812</td>\n",
              "      <td>0.318620</td>\n",
              "      <td>-0.204963</td>\n",
              "      <td>0.001662</td>\n",
              "      <td>0.037894</td>\n",
              "      <td>49.67</td>\n",
              "      <td>0</td>\n",
              "    </tr>\n",
              "    <tr>\n",
              "      <th>1</th>\n",
              "      <td>22555.0</td>\n",
              "      <td>-1.665159</td>\n",
              "      <td>0.808440</td>\n",
              "      <td>1.805627</td>\n",
              "      <td>1.903416</td>\n",
              "      <td>-0.821627</td>\n",
              "      <td>0.934790</td>\n",
              "      <td>-0.824802</td>\n",
              "      <td>0.975890</td>\n",
              "      <td>1.747469</td>\n",
              "      <td>...</td>\n",
              "      <td>-0.335332</td>\n",
              "      <td>-0.510994</td>\n",
              "      <td>0.035839</td>\n",
              "      <td>0.147565</td>\n",
              "      <td>-0.529358</td>\n",
              "      <td>-0.566950</td>\n",
              "      <td>-0.595998</td>\n",
              "      <td>-0.220086</td>\n",
              "      <td>16.94</td>\n",
              "      <td>0</td>\n",
              "    </tr>\n",
              "    <tr>\n",
              "      <th>2</th>\n",
              "      <td>2431.0</td>\n",
              "      <td>-0.324096</td>\n",
              "      <td>0.601836</td>\n",
              "      <td>0.865329</td>\n",
              "      <td>-2.138000</td>\n",
              "      <td>0.294663</td>\n",
              "      <td>-1.251553</td>\n",
              "      <td>1.072114</td>\n",
              "      <td>-0.334896</td>\n",
              "      <td>1.071268</td>\n",
              "      <td>...</td>\n",
              "      <td>0.012220</td>\n",
              "      <td>0.352856</td>\n",
              "      <td>-0.341505</td>\n",
              "      <td>-0.145791</td>\n",
              "      <td>0.094194</td>\n",
              "      <td>-0.804026</td>\n",
              "      <td>0.229428</td>\n",
              "      <td>-0.021623</td>\n",
              "      <td>1.00</td>\n",
              "      <td>0</td>\n",
              "    </tr>\n",
              "    <tr>\n",
              "      <th>3</th>\n",
              "      <td>86773.0</td>\n",
              "      <td>-0.258270</td>\n",
              "      <td>1.217501</td>\n",
              "      <td>-0.585348</td>\n",
              "      <td>-0.875347</td>\n",
              "      <td>1.222481</td>\n",
              "      <td>-0.311027</td>\n",
              "      <td>1.073860</td>\n",
              "      <td>-0.161408</td>\n",
              "      <td>0.200665</td>\n",
              "      <td>...</td>\n",
              "      <td>-0.424626</td>\n",
              "      <td>-0.781158</td>\n",
              "      <td>0.019316</td>\n",
              "      <td>0.178614</td>\n",
              "      <td>-0.315616</td>\n",
              "      <td>0.096665</td>\n",
              "      <td>0.269740</td>\n",
              "      <td>-0.020635</td>\n",
              "      <td>10.78</td>\n",
              "      <td>0</td>\n",
              "    </tr>\n",
              "    <tr>\n",
              "      <th>4</th>\n",
              "      <td>127202.0</td>\n",
              "      <td>2.142162</td>\n",
              "      <td>-0.494988</td>\n",
              "      <td>-1.936511</td>\n",
              "      <td>-0.818288</td>\n",
              "      <td>-0.025213</td>\n",
              "      <td>-1.027245</td>\n",
              "      <td>-0.151627</td>\n",
              "      <td>-0.305750</td>\n",
              "      <td>-0.869482</td>\n",
              "      <td>...</td>\n",
              "      <td>0.010115</td>\n",
              "      <td>0.021722</td>\n",
              "      <td>0.079463</td>\n",
              "      <td>-0.480899</td>\n",
              "      <td>0.023846</td>\n",
              "      <td>-0.279076</td>\n",
              "      <td>-0.030121</td>\n",
              "      <td>-0.043888</td>\n",
              "      <td>39.96</td>\n",
              "      <td>0</td>\n",
              "    </tr>\n",
              "  </tbody>\n",
              "</table>\n",
              "<p>5 rows × 31 columns</p>\n",
              "</div>\n",
              "      <button class=\"colab-df-convert\" onclick=\"convertToInteractive('df-6c865670-d608-41ed-a1fb-b423f4208f81')\"\n",
              "              title=\"Convert this dataframe to an interactive table.\"\n",
              "              style=\"display:none;\">\n",
              "        \n",
              "  <svg xmlns=\"http://www.w3.org/2000/svg\" height=\"24px\"viewBox=\"0 0 24 24\"\n",
              "       width=\"24px\">\n",
              "    <path d=\"M0 0h24v24H0V0z\" fill=\"none\"/>\n",
              "    <path d=\"M18.56 5.44l.94 2.06.94-2.06 2.06-.94-2.06-.94-.94-2.06-.94 2.06-2.06.94zm-11 1L8.5 8.5l.94-2.06 2.06-.94-2.06-.94L8.5 2.5l-.94 2.06-2.06.94zm10 10l.94 2.06.94-2.06 2.06-.94-2.06-.94-.94-2.06-.94 2.06-2.06.94z\"/><path d=\"M17.41 7.96l-1.37-1.37c-.4-.4-.92-.59-1.43-.59-.52 0-1.04.2-1.43.59L10.3 9.45l-7.72 7.72c-.78.78-.78 2.05 0 2.83L4 21.41c.39.39.9.59 1.41.59.51 0 1.02-.2 1.41-.59l7.78-7.78 2.81-2.81c.8-.78.8-2.07 0-2.86zM5.41 20L4 18.59l7.72-7.72 1.47 1.35L5.41 20z\"/>\n",
              "  </svg>\n",
              "      </button>\n",
              "      \n",
              "  <style>\n",
              "    .colab-df-container {\n",
              "      display:flex;\n",
              "      flex-wrap:wrap;\n",
              "      gap: 12px;\n",
              "    }\n",
              "\n",
              "    .colab-df-convert {\n",
              "      background-color: #E8F0FE;\n",
              "      border: none;\n",
              "      border-radius: 50%;\n",
              "      cursor: pointer;\n",
              "      display: none;\n",
              "      fill: #1967D2;\n",
              "      height: 32px;\n",
              "      padding: 0 0 0 0;\n",
              "      width: 32px;\n",
              "    }\n",
              "\n",
              "    .colab-df-convert:hover {\n",
              "      background-color: #E2EBFA;\n",
              "      box-shadow: 0px 1px 2px rgba(60, 64, 67, 0.3), 0px 1px 3px 1px rgba(60, 64, 67, 0.15);\n",
              "      fill: #174EA6;\n",
              "    }\n",
              "\n",
              "    [theme=dark] .colab-df-convert {\n",
              "      background-color: #3B4455;\n",
              "      fill: #D2E3FC;\n",
              "    }\n",
              "\n",
              "    [theme=dark] .colab-df-convert:hover {\n",
              "      background-color: #434B5C;\n",
              "      box-shadow: 0px 1px 3px 1px rgba(0, 0, 0, 0.15);\n",
              "      filter: drop-shadow(0px 1px 2px rgba(0, 0, 0, 0.3));\n",
              "      fill: #FFFFFF;\n",
              "    }\n",
              "  </style>\n",
              "\n",
              "      <script>\n",
              "        const buttonEl =\n",
              "          document.querySelector('#df-6c865670-d608-41ed-a1fb-b423f4208f81 button.colab-df-convert');\n",
              "        buttonEl.style.display =\n",
              "          google.colab.kernel.accessAllowed ? 'block' : 'none';\n",
              "\n",
              "        async function convertToInteractive(key) {\n",
              "          const element = document.querySelector('#df-6c865670-d608-41ed-a1fb-b423f4208f81');\n",
              "          const dataTable =\n",
              "            await google.colab.kernel.invokeFunction('convertToInteractive',\n",
              "                                                     [key], {});\n",
              "          if (!dataTable) return;\n",
              "\n",
              "          const docLinkHtml = 'Like what you see? Visit the ' +\n",
              "            '<a target=\"_blank\" href=https://colab.research.google.com/notebooks/data_table.ipynb>data table notebook</a>'\n",
              "            + ' to learn more about interactive tables.';\n",
              "          element.innerHTML = '';\n",
              "          dataTable['output_type'] = 'display_data';\n",
              "          await google.colab.output.renderOutput(dataTable, element);\n",
              "          const docLink = document.createElement('div');\n",
              "          docLink.innerHTML = docLinkHtml;\n",
              "          element.appendChild(docLink);\n",
              "        }\n",
              "      </script>\n",
              "    </div>\n",
              "  </div>\n",
              "  "
            ]
          },
          "metadata": {},
          "execution_count": 86
        }
      ]
    },
    {
      "cell_type": "markdown",
      "source": [
        "**Week 1**\n",
        "\n",
        "Exploratory Data Analysis (EDA):"
      ],
      "metadata": {
        "id": "noYfQaBBO_Q1"
      }
    },
    {
      "cell_type": "code",
      "source": [
        "# 1. Perform an EDA on the Dataset."
      ],
      "metadata": {
        "id": "5D7yPsemHRpx"
      },
      "execution_count": 87,
      "outputs": []
    },
    {
      "cell_type": "code",
      "source": [
        "# A) Check all the latent features and parameters with their mean and standard deviation. Value are close to 0 centered (mean) with unit standard deviation\n",
        "\n",
        "df.describe()"
      ],
      "metadata": {
        "colab": {
          "base_uri": "https://localhost:8080/",
          "height": 394
        },
        "id": "-pUHGGn-HRnN",
        "outputId": "fbaae68d-7a3c-4a1e-e757-d352a9836b9e"
      },
      "execution_count": 88,
      "outputs": [
        {
          "output_type": "execute_result",
          "data": {
            "text/plain": [
              "                Time             V1             V2             V3  \\\n",
              "count  227845.000000  227845.000000  227845.000000  227845.000000   \n",
              "mean    94752.853076      -0.003321      -0.001652       0.001066   \n",
              "std     47500.410602       1.963028       1.661178       1.516107   \n",
              "min         0.000000     -56.407510     -72.715728     -32.965346   \n",
              "25%     54182.000000      -0.922851      -0.598040      -0.889246   \n",
              "50%     84607.000000       0.012663       0.066665       0.182170   \n",
              "75%    139340.000000       1.314821       0.804401       1.029449   \n",
              "max    172792.000000       2.454930      22.057729       9.382558   \n",
              "\n",
              "                  V4             V5             V6             V7  \\\n",
              "count  227845.000000  227845.000000  227845.000000  227845.000000   \n",
              "mean       -0.000374       0.000877       0.000770      -0.000035   \n",
              "std         1.415061       1.367074       1.325341       1.220384   \n",
              "min        -5.683171     -42.147898     -26.160506     -43.557242   \n",
              "25%        -0.848884      -0.690811      -0.767803      -0.554761   \n",
              "50%        -0.019309      -0.055243      -0.273025       0.040409   \n",
              "75%         0.744822       0.610852       0.400298       0.570631   \n",
              "max        16.875344      34.801666      22.529298      36.877368   \n",
              "\n",
              "                  V8             V9  ...            V21            V22  \\\n",
              "count  227845.000000  227845.000000  ...  227845.000000  227845.000000   \n",
              "mean        0.001625      -0.000391  ...       0.000563       0.001234   \n",
              "std         1.192648       1.097367  ...       0.734187       0.724544   \n",
              "min       -73.216718     -13.434066  ...     -34.830382     -10.933144   \n",
              "25%        -0.207838      -0.643365  ...      -0.228031      -0.540792   \n",
              "50%         0.022928      -0.050932  ...      -0.028807       0.008697   \n",
              "75%         0.327854       0.596671  ...       0.186852       0.529535   \n",
              "max        20.007208      15.594995  ...      27.202839      10.503090   \n",
              "\n",
              "                 V23            V24            V25            V26  \\\n",
              "count  227845.000000  227845.000000  227845.000000  227845.000000   \n",
              "mean       -0.001002       0.000254       0.000218      -0.001128   \n",
              "std         0.625165       0.606012       0.521348       0.482314   \n",
              "min       -44.807735      -2.836627     -10.295397      -2.604551   \n",
              "25%        -0.162264      -0.354099      -0.317450      -0.327910   \n",
              "50%        -0.011614       0.041212       0.016221      -0.053257   \n",
              "75%         0.147067       0.440051       0.351214       0.239885   \n",
              "max        22.528412       4.022866       6.070850       3.463246   \n",
              "\n",
              "                 V27            V28         Amount          Class  \n",
              "count  227845.000000  227845.000000  227845.000000  227845.000000  \n",
              "mean       -0.000346       0.000498      88.522327       0.001729  \n",
              "std         0.400286       0.331184     248.100141       0.041548  \n",
              "min       -22.565679     -11.710896       0.000000       0.000000  \n",
              "25%        -0.070986      -0.053117       5.590000       0.000000  \n",
              "50%         0.001315       0.011216      22.000000       0.000000  \n",
              "75%         0.091105       0.078458      77.070000       0.000000  \n",
              "max        12.152401      33.847808   19656.530000       1.000000  \n",
              "\n",
              "[8 rows x 31 columns]"
            ],
            "text/html": [
              "\n",
              "  <div id=\"df-2ecf3975-4710-48cb-8cb5-3521e7794266\">\n",
              "    <div class=\"colab-df-container\">\n",
              "      <div>\n",
              "<style scoped>\n",
              "    .dataframe tbody tr th:only-of-type {\n",
              "        vertical-align: middle;\n",
              "    }\n",
              "\n",
              "    .dataframe tbody tr th {\n",
              "        vertical-align: top;\n",
              "    }\n",
              "\n",
              "    .dataframe thead th {\n",
              "        text-align: right;\n",
              "    }\n",
              "</style>\n",
              "<table border=\"1\" class=\"dataframe\">\n",
              "  <thead>\n",
              "    <tr style=\"text-align: right;\">\n",
              "      <th></th>\n",
              "      <th>Time</th>\n",
              "      <th>V1</th>\n",
              "      <th>V2</th>\n",
              "      <th>V3</th>\n",
              "      <th>V4</th>\n",
              "      <th>V5</th>\n",
              "      <th>V6</th>\n",
              "      <th>V7</th>\n",
              "      <th>V8</th>\n",
              "      <th>V9</th>\n",
              "      <th>...</th>\n",
              "      <th>V21</th>\n",
              "      <th>V22</th>\n",
              "      <th>V23</th>\n",
              "      <th>V24</th>\n",
              "      <th>V25</th>\n",
              "      <th>V26</th>\n",
              "      <th>V27</th>\n",
              "      <th>V28</th>\n",
              "      <th>Amount</th>\n",
              "      <th>Class</th>\n",
              "    </tr>\n",
              "  </thead>\n",
              "  <tbody>\n",
              "    <tr>\n",
              "      <th>count</th>\n",
              "      <td>227845.000000</td>\n",
              "      <td>227845.000000</td>\n",
              "      <td>227845.000000</td>\n",
              "      <td>227845.000000</td>\n",
              "      <td>227845.000000</td>\n",
              "      <td>227845.000000</td>\n",
              "      <td>227845.000000</td>\n",
              "      <td>227845.000000</td>\n",
              "      <td>227845.000000</td>\n",
              "      <td>227845.000000</td>\n",
              "      <td>...</td>\n",
              "      <td>227845.000000</td>\n",
              "      <td>227845.000000</td>\n",
              "      <td>227845.000000</td>\n",
              "      <td>227845.000000</td>\n",
              "      <td>227845.000000</td>\n",
              "      <td>227845.000000</td>\n",
              "      <td>227845.000000</td>\n",
              "      <td>227845.000000</td>\n",
              "      <td>227845.000000</td>\n",
              "      <td>227845.000000</td>\n",
              "    </tr>\n",
              "    <tr>\n",
              "      <th>mean</th>\n",
              "      <td>94752.853076</td>\n",
              "      <td>-0.003321</td>\n",
              "      <td>-0.001652</td>\n",
              "      <td>0.001066</td>\n",
              "      <td>-0.000374</td>\n",
              "      <td>0.000877</td>\n",
              "      <td>0.000770</td>\n",
              "      <td>-0.000035</td>\n",
              "      <td>0.001625</td>\n",
              "      <td>-0.000391</td>\n",
              "      <td>...</td>\n",
              "      <td>0.000563</td>\n",
              "      <td>0.001234</td>\n",
              "      <td>-0.001002</td>\n",
              "      <td>0.000254</td>\n",
              "      <td>0.000218</td>\n",
              "      <td>-0.001128</td>\n",
              "      <td>-0.000346</td>\n",
              "      <td>0.000498</td>\n",
              "      <td>88.522327</td>\n",
              "      <td>0.001729</td>\n",
              "    </tr>\n",
              "    <tr>\n",
              "      <th>std</th>\n",
              "      <td>47500.410602</td>\n",
              "      <td>1.963028</td>\n",
              "      <td>1.661178</td>\n",
              "      <td>1.516107</td>\n",
              "      <td>1.415061</td>\n",
              "      <td>1.367074</td>\n",
              "      <td>1.325341</td>\n",
              "      <td>1.220384</td>\n",
              "      <td>1.192648</td>\n",
              "      <td>1.097367</td>\n",
              "      <td>...</td>\n",
              "      <td>0.734187</td>\n",
              "      <td>0.724544</td>\n",
              "      <td>0.625165</td>\n",
              "      <td>0.606012</td>\n",
              "      <td>0.521348</td>\n",
              "      <td>0.482314</td>\n",
              "      <td>0.400286</td>\n",
              "      <td>0.331184</td>\n",
              "      <td>248.100141</td>\n",
              "      <td>0.041548</td>\n",
              "    </tr>\n",
              "    <tr>\n",
              "      <th>min</th>\n",
              "      <td>0.000000</td>\n",
              "      <td>-56.407510</td>\n",
              "      <td>-72.715728</td>\n",
              "      <td>-32.965346</td>\n",
              "      <td>-5.683171</td>\n",
              "      <td>-42.147898</td>\n",
              "      <td>-26.160506</td>\n",
              "      <td>-43.557242</td>\n",
              "      <td>-73.216718</td>\n",
              "      <td>-13.434066</td>\n",
              "      <td>...</td>\n",
              "      <td>-34.830382</td>\n",
              "      <td>-10.933144</td>\n",
              "      <td>-44.807735</td>\n",
              "      <td>-2.836627</td>\n",
              "      <td>-10.295397</td>\n",
              "      <td>-2.604551</td>\n",
              "      <td>-22.565679</td>\n",
              "      <td>-11.710896</td>\n",
              "      <td>0.000000</td>\n",
              "      <td>0.000000</td>\n",
              "    </tr>\n",
              "    <tr>\n",
              "      <th>25%</th>\n",
              "      <td>54182.000000</td>\n",
              "      <td>-0.922851</td>\n",
              "      <td>-0.598040</td>\n",
              "      <td>-0.889246</td>\n",
              "      <td>-0.848884</td>\n",
              "      <td>-0.690811</td>\n",
              "      <td>-0.767803</td>\n",
              "      <td>-0.554761</td>\n",
              "      <td>-0.207838</td>\n",
              "      <td>-0.643365</td>\n",
              "      <td>...</td>\n",
              "      <td>-0.228031</td>\n",
              "      <td>-0.540792</td>\n",
              "      <td>-0.162264</td>\n",
              "      <td>-0.354099</td>\n",
              "      <td>-0.317450</td>\n",
              "      <td>-0.327910</td>\n",
              "      <td>-0.070986</td>\n",
              "      <td>-0.053117</td>\n",
              "      <td>5.590000</td>\n",
              "      <td>0.000000</td>\n",
              "    </tr>\n",
              "    <tr>\n",
              "      <th>50%</th>\n",
              "      <td>84607.000000</td>\n",
              "      <td>0.012663</td>\n",
              "      <td>0.066665</td>\n",
              "      <td>0.182170</td>\n",
              "      <td>-0.019309</td>\n",
              "      <td>-0.055243</td>\n",
              "      <td>-0.273025</td>\n",
              "      <td>0.040409</td>\n",
              "      <td>0.022928</td>\n",
              "      <td>-0.050932</td>\n",
              "      <td>...</td>\n",
              "      <td>-0.028807</td>\n",
              "      <td>0.008697</td>\n",
              "      <td>-0.011614</td>\n",
              "      <td>0.041212</td>\n",
              "      <td>0.016221</td>\n",
              "      <td>-0.053257</td>\n",
              "      <td>0.001315</td>\n",
              "      <td>0.011216</td>\n",
              "      <td>22.000000</td>\n",
              "      <td>0.000000</td>\n",
              "    </tr>\n",
              "    <tr>\n",
              "      <th>75%</th>\n",
              "      <td>139340.000000</td>\n",
              "      <td>1.314821</td>\n",
              "      <td>0.804401</td>\n",
              "      <td>1.029449</td>\n",
              "      <td>0.744822</td>\n",
              "      <td>0.610852</td>\n",
              "      <td>0.400298</td>\n",
              "      <td>0.570631</td>\n",
              "      <td>0.327854</td>\n",
              "      <td>0.596671</td>\n",
              "      <td>...</td>\n",
              "      <td>0.186852</td>\n",
              "      <td>0.529535</td>\n",
              "      <td>0.147067</td>\n",
              "      <td>0.440051</td>\n",
              "      <td>0.351214</td>\n",
              "      <td>0.239885</td>\n",
              "      <td>0.091105</td>\n",
              "      <td>0.078458</td>\n",
              "      <td>77.070000</td>\n",
              "      <td>0.000000</td>\n",
              "    </tr>\n",
              "    <tr>\n",
              "      <th>max</th>\n",
              "      <td>172792.000000</td>\n",
              "      <td>2.454930</td>\n",
              "      <td>22.057729</td>\n",
              "      <td>9.382558</td>\n",
              "      <td>16.875344</td>\n",
              "      <td>34.801666</td>\n",
              "      <td>22.529298</td>\n",
              "      <td>36.877368</td>\n",
              "      <td>20.007208</td>\n",
              "      <td>15.594995</td>\n",
              "      <td>...</td>\n",
              "      <td>27.202839</td>\n",
              "      <td>10.503090</td>\n",
              "      <td>22.528412</td>\n",
              "      <td>4.022866</td>\n",
              "      <td>6.070850</td>\n",
              "      <td>3.463246</td>\n",
              "      <td>12.152401</td>\n",
              "      <td>33.847808</td>\n",
              "      <td>19656.530000</td>\n",
              "      <td>1.000000</td>\n",
              "    </tr>\n",
              "  </tbody>\n",
              "</table>\n",
              "<p>8 rows × 31 columns</p>\n",
              "</div>\n",
              "      <button class=\"colab-df-convert\" onclick=\"convertToInteractive('df-2ecf3975-4710-48cb-8cb5-3521e7794266')\"\n",
              "              title=\"Convert this dataframe to an interactive table.\"\n",
              "              style=\"display:none;\">\n",
              "        \n",
              "  <svg xmlns=\"http://www.w3.org/2000/svg\" height=\"24px\"viewBox=\"0 0 24 24\"\n",
              "       width=\"24px\">\n",
              "    <path d=\"M0 0h24v24H0V0z\" fill=\"none\"/>\n",
              "    <path d=\"M18.56 5.44l.94 2.06.94-2.06 2.06-.94-2.06-.94-.94-2.06-.94 2.06-2.06.94zm-11 1L8.5 8.5l.94-2.06 2.06-.94-2.06-.94L8.5 2.5l-.94 2.06-2.06.94zm10 10l.94 2.06.94-2.06 2.06-.94-2.06-.94-.94-2.06-.94 2.06-2.06.94z\"/><path d=\"M17.41 7.96l-1.37-1.37c-.4-.4-.92-.59-1.43-.59-.52 0-1.04.2-1.43.59L10.3 9.45l-7.72 7.72c-.78.78-.78 2.05 0 2.83L4 21.41c.39.39.9.59 1.41.59.51 0 1.02-.2 1.41-.59l7.78-7.78 2.81-2.81c.8-.78.8-2.07 0-2.86zM5.41 20L4 18.59l7.72-7.72 1.47 1.35L5.41 20z\"/>\n",
              "  </svg>\n",
              "      </button>\n",
              "      \n",
              "  <style>\n",
              "    .colab-df-container {\n",
              "      display:flex;\n",
              "      flex-wrap:wrap;\n",
              "      gap: 12px;\n",
              "    }\n",
              "\n",
              "    .colab-df-convert {\n",
              "      background-color: #E8F0FE;\n",
              "      border: none;\n",
              "      border-radius: 50%;\n",
              "      cursor: pointer;\n",
              "      display: none;\n",
              "      fill: #1967D2;\n",
              "      height: 32px;\n",
              "      padding: 0 0 0 0;\n",
              "      width: 32px;\n",
              "    }\n",
              "\n",
              "    .colab-df-convert:hover {\n",
              "      background-color: #E2EBFA;\n",
              "      box-shadow: 0px 1px 2px rgba(60, 64, 67, 0.3), 0px 1px 3px 1px rgba(60, 64, 67, 0.15);\n",
              "      fill: #174EA6;\n",
              "    }\n",
              "\n",
              "    [theme=dark] .colab-df-convert {\n",
              "      background-color: #3B4455;\n",
              "      fill: #D2E3FC;\n",
              "    }\n",
              "\n",
              "    [theme=dark] .colab-df-convert:hover {\n",
              "      background-color: #434B5C;\n",
              "      box-shadow: 0px 1px 3px 1px rgba(0, 0, 0, 0.15);\n",
              "      filter: drop-shadow(0px 1px 2px rgba(0, 0, 0, 0.3));\n",
              "      fill: #FFFFFF;\n",
              "    }\n",
              "  </style>\n",
              "\n",
              "      <script>\n",
              "        const buttonEl =\n",
              "          document.querySelector('#df-2ecf3975-4710-48cb-8cb5-3521e7794266 button.colab-df-convert');\n",
              "        buttonEl.style.display =\n",
              "          google.colab.kernel.accessAllowed ? 'block' : 'none';\n",
              "\n",
              "        async function convertToInteractive(key) {\n",
              "          const element = document.querySelector('#df-2ecf3975-4710-48cb-8cb5-3521e7794266');\n",
              "          const dataTable =\n",
              "            await google.colab.kernel.invokeFunction('convertToInteractive',\n",
              "                                                     [key], {});\n",
              "          if (!dataTable) return;\n",
              "\n",
              "          const docLinkHtml = 'Like what you see? Visit the ' +\n",
              "            '<a target=\"_blank\" href=https://colab.research.google.com/notebooks/data_table.ipynb>data table notebook</a>'\n",
              "            + ' to learn more about interactive tables.';\n",
              "          element.innerHTML = '';\n",
              "          dataTable['output_type'] = 'display_data';\n",
              "          await google.colab.output.renderOutput(dataTable, element);\n",
              "          const docLink = document.createElement('div');\n",
              "          docLink.innerHTML = docLinkHtml;\n",
              "          element.appendChild(docLink);\n",
              "        }\n",
              "      </script>\n",
              "    </div>\n",
              "  </div>\n",
              "  "
            ]
          },
          "metadata": {},
          "execution_count": 88
        }
      ]
    },
    {
      "cell_type": "code",
      "source": [
        "# B) Find if there is any connection between Time, Amount, and the transaction being fraudulent.\n",
        "\n",
        "print(df.groupby('Class').agg({'Time':'mean'}))\n",
        "print(df.groupby('Class').agg({'Amount':'mean'}))"
      ],
      "metadata": {
        "colab": {
          "base_uri": "https://localhost:8080/"
        },
        "id": "4WYdTYOEHRkq",
        "outputId": "a926cb47-7733-48a0-f4c7-ad59991c897d"
      },
      "execution_count": 89,
      "outputs": [
        {
          "output_type": "stream",
          "name": "stdout",
          "text": [
            "               Time\n",
            "Class              \n",
            "0      94778.158337\n",
            "1      80144.459391\n",
            "           Amount\n",
            "Class            \n",
            "0       88.455144\n",
            "1      127.306523\n"
          ]
        }
      ]
    },
    {
      "cell_type": "markdown",
      "source": [
        "I) It can be observed that the time and amount varies according to the transaction being fraudulant or non-fraudulant\n",
        "\n",
        "II) Lesser the time is, more is the possibility of transaction to be fraudulant and more the amount is more is the risk of fraudulant transaction"
      ],
      "metadata": {
        "id": "DXJFJIEvWXdC"
      }
    },
    {
      "cell_type": "code",
      "source": [
        "# 2. Check the class count for each class. It’s a class Imbalance problem.\n",
        "\n",
        "print(df['Class'].value_counts())"
      ],
      "metadata": {
        "colab": {
          "base_uri": "https://localhost:8080/"
        },
        "id": "iw9kqDfRHRfK",
        "outputId": "20f0c022-17ff-4021-9c86-94bf9878fba3"
      },
      "execution_count": 90,
      "outputs": [
        {
          "output_type": "stream",
          "name": "stdout",
          "text": [
            "0    227451\n",
            "1       394\n",
            "Name: Class, dtype: int64\n"
          ]
        }
      ]
    },
    {
      "cell_type": "code",
      "source": [
        "# The class is imbalanced"
      ],
      "metadata": {
        "id": "L5R52q0-HRcr"
      },
      "execution_count": 91,
      "outputs": []
    },
    {
      "cell_type": "code",
      "source": [
        "# 3. Use techniques like undersampling or oversampling before running Naïve Bayes, Logistic Regression or SVM."
      ],
      "metadata": {
        "id": "ELizoJxqHRZ4"
      },
      "execution_count": 92,
      "outputs": []
    },
    {
      "cell_type": "code",
      "source": [
        "y = df['Class']\n",
        "X = df.drop('Class', axis=1)\n",
        "\n",
        "X_train, X_test, y_train, y_test = train_test_split(X, y, test_size=0.25, random_state=27)\n",
        "\n",
        "X = pd.concat([X_train, y_train], axis=1)\n",
        "\n",
        "not_fraud = X[X.Class==0]\n",
        "fraud = X[X.Class==1]\n",
        "\n",
        "fraud_upsampled = resample(fraud,\n",
        "                          replace=True, \n",
        "                          n_samples=len(not_fraud), \n",
        "                          random_state=27)\n",
        "\n",
        "upsampled = pd.concat([not_fraud, fraud_upsampled])\n",
        "\n",
        "upsampled.Class.value_counts()"
      ],
      "metadata": {
        "colab": {
          "base_uri": "https://localhost:8080/"
        },
        "id": "-VrLaFxwHRXY",
        "outputId": "f91ac463-5328-4d44-fb1e-4225997dc8ec"
      },
      "execution_count": 93,
      "outputs": [
        {
          "output_type": "execute_result",
          "data": {
            "text/plain": [
              "0    170590\n",
              "1    170590\n",
              "Name: Class, dtype: int64"
            ]
          },
          "metadata": {},
          "execution_count": 93
        }
      ]
    },
    {
      "cell_type": "code",
      "source": [
        "# 4. Following are the matrices for evaluating the model performance: Precision, Recall, F1-Score, AUC-ROC curve. Use F1-Score as the evaluation criteria for this project.\n",
        "\n",
        "def recall_m(y_true, y_pred):\n",
        "    true_positives = K.sum(K.round(K.clip(y_true * y_pred, 0, 1)))\n",
        "    possible_positives = K.sum(K.round(K.clip(y_true, 0, 1)))\n",
        "    recall = true_positives / (possible_positives + K.epsilon())\n",
        "    return recall\n",
        "\n",
        "def precision_m(y_true, y_pred):\n",
        "    true_positives = K.sum(K.round(K.clip(y_true * y_pred, 0, 1)))\n",
        "    predicted_positives = K.sum(K.round(K.clip(y_pred, 0, 1)))\n",
        "    precision = true_positives / (predicted_positives + K.epsilon())\n",
        "    return precision\n",
        "\n",
        "def f1_scor(y_true, y_pred):\n",
        "    precision = precision_m(y_true, y_pred)\n",
        "    recall = recall_m(y_true, y_pred)\n",
        "    return 2*((precision*recall)/(precision+recall+K.epsilon()))\n",
        "    "
      ],
      "metadata": {
        "id": "I9fdI5ESHRUw"
      },
      "execution_count": 94,
      "outputs": []
    },
    {
      "cell_type": "markdown",
      "source": [
        "Modeling Techniques:"
      ],
      "metadata": {
        "id": "8AkM91mUTWA9"
      }
    },
    {
      "cell_type": "code",
      "source": [
        "# 5. Try out models like Naive Bayes, Logistic Regression or SVM. Find out which one performs the best\n",
        "\n",
        "y_train = upsampled['Class']\n",
        "X_train = upsampled.drop('Class',axis=1)\n",
        "\n",
        "lr = LogisticRegression()\n",
        "naive = GaussianNB()\n",
        "svm = LinearSVC(random_state=0, tol=1e-5)\n",
        "\n",
        "classifier = [lr,naive, svm]\n",
        "classifier_label = ['logistic', 'naive_gaussian', 'svm']\n",
        "\n",
        "for i in range(3):\n",
        "    upsampled = classifier[i].fit(X_train, y_train)\n",
        "    upsampled_pred = upsampled.predict(X_test)\n",
        "    print('The F1 score of {} is {} '.format(classifier_label[i],f1_score(y_test, upsampled_pred)))\n",
        "\n"
      ],
      "metadata": {
        "colab": {
          "base_uri": "https://localhost:8080/"
        },
        "id": "BfC9l8cJHRSD",
        "outputId": "d00b0c0d-201a-46b8-e4e0-3b77db33f673"
      },
      "execution_count": 95,
      "outputs": [
        {
          "output_type": "stream",
          "name": "stdout",
          "text": [
            "The F1 score of logistic is 0.08245533669262484 \n",
            "The F1 score of naive_gaussian is 0.20461095100864551 \n",
            "The F1 score of svm is 0.07490974729241877 \n"
          ]
        },
        {
          "output_type": "stream",
          "name": "stderr",
          "text": [
            "/usr/local/lib/python3.7/dist-packages/sklearn/svm/_base.py:1208: ConvergenceWarning: Liblinear failed to converge, increase the number of iterations.\n",
            "  ConvergenceWarning,\n"
          ]
        }
      ]
    },
    {
      "cell_type": "markdown",
      "source": [
        "According to the above results naive bayes is the best classifier"
      ],
      "metadata": {
        "id": "X8SppCAbU5D6"
      }
    },
    {
      "cell_type": "code",
      "source": [
        "# 6. Use different Tree-based classifiers like Random Forest and XGBoost. \n",
        "\n",
        "y = df['Class']\n",
        "X = df.drop('Class', axis=1)\n",
        "X_train, X_test, y_train, y_test = train_test_split(X, y, test_size=0.25, random_state=27)\n",
        "\n",
        "rfc = RandomForestClassifier(n_estimators=10).fit(X_train, y_train)\n",
        "rfc_pred = rfc.predict(X_test)\n",
        "print(\"random forest F1 score is\", f1_score(y_test, rfc_pred))"
      ],
      "metadata": {
        "colab": {
          "base_uri": "https://localhost:8080/"
        },
        "id": "8MDSXdZUHRPb",
        "outputId": "11ffa96f-06b5-442c-b1f8-f27b7cd68fef"
      },
      "execution_count": 96,
      "outputs": [
        {
          "output_type": "stream",
          "name": "stdout",
          "text": [
            "random forest F1 score is 0.8602150537634408\n"
          ]
        }
      ]
    },
    {
      "cell_type": "code",
      "source": [
        "y_train.unique()"
      ],
      "metadata": {
        "colab": {
          "base_uri": "https://localhost:8080/"
        },
        "id": "kN80aNYtX5QS",
        "outputId": "0dd5c9ee-0748-4f6a-dd22-05c605cd9261"
      },
      "execution_count": 97,
      "outputs": [
        {
          "output_type": "execute_result",
          "data": {
            "text/plain": [
              "array([0, 1])"
            ]
          },
          "metadata": {},
          "execution_count": 97
        }
      ]
    },
    {
      "cell_type": "code",
      "source": [
        "dtrain = xgb.DMatrix(X_train, label=y_train)\n",
        "dtest = xgb.DMatrix(X_test, label=y_test)\n",
        "\n",
        "param = {'max_depth':15,'eta':1,'objective':'binary:logistic'}\n",
        "num_round = 2\n",
        "bst = xgb.train(param, dtrain, num_round)\n",
        "preds = bst.predict(dtest)\n",
        "y_pred = (preds > 0.5)\n",
        "print(\"xgboost F1 score is\", f1_score(y_test, y_pred))"
      ],
      "metadata": {
        "colab": {
          "base_uri": "https://localhost:8080/"
        },
        "id": "tcglzA0sHRMw",
        "outputId": "bf995241-80c0-4e4e-9f61-5ce6bf235ebf"
      },
      "execution_count": 98,
      "outputs": [
        {
          "output_type": "stream",
          "name": "stdout",
          "text": [
            "xgboost F1 score is 0.8478260869565218\n"
          ]
        }
      ]
    },
    {
      "cell_type": "markdown",
      "source": [
        "According to the F1 score, XGBoost gives better accuracy"
      ],
      "metadata": {
        "id": "mQHxCNOpYLFU"
      }
    },
    {
      "cell_type": "code",
      "source": [
        ""
      ],
      "metadata": {
        "id": "5uIJ0_TKHRKW"
      },
      "execution_count": 98,
      "outputs": []
    },
    {
      "cell_type": "markdown",
      "source": [
        "**Project Task: Week 2**\n",
        "\n",
        "Applying ANN:"
      ],
      "metadata": {
        "id": "SmsmrsnJYigY"
      }
    },
    {
      "cell_type": "code",
      "source": [
        "# 1. Use ANN (Artificial Neural Network) to predict Store Sales.\n",
        "\n",
        "model = Sequential()\n",
        "model.add(Dense(100,input_dim=X_train.shape[1], activation='relu'))\n",
        "model.add(Dense(100, activation='relu'))\n",
        "model.add(Dense(100, activation='relu'))\n",
        "model.add(Dense(1, activation='sigmoid'))\n",
        "model.compile(loss='binary_crossentropy', optimizer='adam', metrics=['accuracy'])\n",
        "\n",
        "print(model.summary())"
      ],
      "metadata": {
        "colab": {
          "base_uri": "https://localhost:8080/"
        },
        "id": "s5770aSxHRH2",
        "outputId": "3b67f45a-a4cd-456c-ea53-5d687357fdb9"
      },
      "execution_count": 99,
      "outputs": [
        {
          "output_type": "stream",
          "name": "stdout",
          "text": [
            "Model: \"sequential_9\"\n",
            "_________________________________________________________________\n",
            " Layer (type)                Output Shape              Param #   \n",
            "=================================================================\n",
            " dense_36 (Dense)            (None, 100)               3100      \n",
            "                                                                 \n",
            " dense_37 (Dense)            (None, 100)               10100     \n",
            "                                                                 \n",
            " dense_38 (Dense)            (None, 100)               10100     \n",
            "                                                                 \n",
            " dense_39 (Dense)            (None, 1)                 101       \n",
            "                                                                 \n",
            "=================================================================\n",
            "Total params: 23,401\n",
            "Trainable params: 23,401\n",
            "Non-trainable params: 0\n",
            "_________________________________________________________________\n",
            "None\n"
          ]
        }
      ]
    },
    {
      "cell_type": "code",
      "source": [
        "loss = model.fit(X_train, y_train, batch_size=128, epochs=5, validation_split=0.5, callbacks=[], verbose=1)\n",
        "score= model.evaluate(X_test, y_test, verbose=0)\n",
        "print(\"score=\", score)\n"
      ],
      "metadata": {
        "colab": {
          "base_uri": "https://localhost:8080/"
        },
        "id": "tYOmbgfOHRFV",
        "outputId": "692cbbfd-0203-4418-bbef-7dbb1f24cae8"
      },
      "execution_count": 100,
      "outputs": [
        {
          "output_type": "stream",
          "name": "stdout",
          "text": [
            "Epoch 1/5\n",
            "668/668 [==============================] - 4s 5ms/step - loss: 34.9758 - accuracy: 0.9910 - val_loss: 90.4564 - val_accuracy: 0.9982\n",
            "Epoch 2/5\n",
            "668/668 [==============================] - 3s 4ms/step - loss: 38.7621 - accuracy: 0.9969 - val_loss: 0.3995 - val_accuracy: 0.9980\n",
            "Epoch 3/5\n",
            "668/668 [==============================] - 3s 4ms/step - loss: 58.8683 - accuracy: 0.9924 - val_loss: 128.9824 - val_accuracy: 0.9982\n",
            "Epoch 4/5\n",
            "668/668 [==============================] - 3s 4ms/step - loss: 148.6892 - accuracy: 0.9924 - val_loss: 214.6380 - val_accuracy: 0.9982\n",
            "Epoch 5/5\n",
            "668/668 [==============================] - 3s 4ms/step - loss: 118.2145 - accuracy: 0.9954 - val_loss: 82.9145 - val_accuracy: 0.9982\n",
            "score= [75.99324035644531, 0.9982268810272217]\n"
          ]
        }
      ]
    },
    {
      "cell_type": "code",
      "source": [
        "y_train1 = to_categorical(y_train)\n",
        "y_test1 = to_categorical(y_test)\n",
        "\n",
        "count_classes = y_test1.shape[1]\n",
        "print(count_classes)"
      ],
      "metadata": {
        "colab": {
          "base_uri": "https://localhost:8080/"
        },
        "id": "v6R8WLwRHRC1",
        "outputId": "fdab3801-284f-40f4-af76-6379fc69f2f1"
      },
      "execution_count": 101,
      "outputs": [
        {
          "output_type": "stream",
          "name": "stdout",
          "text": [
            "2\n"
          ]
        }
      ]
    },
    {
      "cell_type": "code",
      "source": [
        "model = Sequential()\n",
        "model.add(Dense(100,input_dim=X_train.shape[1], activation='relu'))\n",
        "\n",
        "model.add(Dense(100, activation='relu'))\n",
        "\n",
        "model.add(Dense(100, activation='relu'))\n",
        "\n",
        "model.add(Dense(2, activation='softmax'))\n",
        "model.compile(loss='categorical_crossentropy', optimizer='adam', metrics=['accuracy',f1_scor])\n",
        "\n",
        "print(model.summary())"
      ],
      "metadata": {
        "colab": {
          "base_uri": "https://localhost:8080/"
        },
        "id": "tNuZUw28HRAf",
        "outputId": "790e5575-d57e-42f8-a83b-1527c0dc4717"
      },
      "execution_count": 102,
      "outputs": [
        {
          "output_type": "stream",
          "name": "stdout",
          "text": [
            "Model: \"sequential_10\"\n",
            "_________________________________________________________________\n",
            " Layer (type)                Output Shape              Param #   \n",
            "=================================================================\n",
            " dense_40 (Dense)            (None, 100)               3100      \n",
            "                                                                 \n",
            " dense_41 (Dense)            (None, 100)               10100     \n",
            "                                                                 \n",
            " dense_42 (Dense)            (None, 100)               10100     \n",
            "                                                                 \n",
            " dense_43 (Dense)            (None, 2)                 202       \n",
            "                                                                 \n",
            "=================================================================\n",
            "Total params: 23,502\n",
            "Trainable params: 23,502\n",
            "Non-trainable params: 0\n",
            "_________________________________________________________________\n",
            "None\n"
          ]
        }
      ]
    },
    {
      "cell_type": "code",
      "source": [
        "loss = model.fit(X_train, y_train1, batch_size=128, epochs=5, validation_split=0.5, callbacks=[], verbose=1)\n",
        "score = model.evaluate(X_test, y_test1, verbose=0)\n",
        "print(\"score=\", score)"
      ],
      "metadata": {
        "colab": {
          "base_uri": "https://localhost:8080/"
        },
        "id": "dg0QkD1KHQ94",
        "outputId": "2ea75910-54b8-447d-d354-6682b3d16fd2"
      },
      "execution_count": 103,
      "outputs": [
        {
          "output_type": "stream",
          "name": "stdout",
          "text": [
            "Epoch 1/5\n",
            "668/668 [==============================] - 3s 4ms/step - loss: 31.9414 - accuracy: 0.9939 - f1_scor: 0.9939 - val_loss: 14.2170 - val_accuracy: 0.9982 - val_f1_scor: 0.9982\n",
            "Epoch 2/5\n",
            "668/668 [==============================] - 3s 4ms/step - loss: 41.7230 - accuracy: 0.9922 - f1_scor: 0.9922 - val_loss: 147.3152 - val_accuracy: 0.9982 - val_f1_scor: 0.9982\n",
            "Epoch 3/5\n",
            "668/668 [==============================] - 2s 4ms/step - loss: 82.7063 - accuracy: 0.9965 - f1_scor: 0.9965 - val_loss: 68.2147 - val_accuracy: 0.9982 - val_f1_scor: 0.9982\n",
            "Epoch 4/5\n",
            "668/668 [==============================] - 3s 4ms/step - loss: 29.7861 - accuracy: 0.9967 - f1_scor: 0.9967 - val_loss: 0.7109 - val_accuracy: 0.9969 - val_f1_scor: 0.9969\n",
            "Epoch 5/5\n",
            "668/668 [==============================] - 3s 4ms/step - loss: 51.0647 - accuracy: 0.9951 - f1_scor: 0.9951 - val_loss: 93.0757 - val_accuracy: 0.9982 - val_f1_scor: 0.9982\n",
            "score= [85.4771957397461, 0.9982268810272217, 0.9982278347015381]\n"
          ]
        }
      ]
    },
    {
      "cell_type": "markdown",
      "source": [
        "ANN model performed better than ML models"
      ],
      "metadata": {
        "id": "Ipn8c-6udH2n"
      }
    },
    {
      "cell_type": "code",
      "source": [
        "# 2. Try out Dropout for ANN. How is it performed? Compare model performance with the traditional ML based prediction models from above.\n",
        "\n",
        "model = Sequential()\n",
        "model.add(Dense(100,input_dim=X_train.shape[1], activation='relu'))\n",
        "\n",
        "model.add(Dense(100, activation='relu'))\n",
        "model.add(Dropout(0.2))\n",
        "model.add(Dense(100, activation='relu'))\n",
        "model.add(Dropout(0.2))\n",
        "model.add(Dense(2, activation='softmax'))\n",
        "model.compile(loss='categorical_crossentropy', optimizer='adam', metrics=['accuracy',f1_scor])\n",
        "\n",
        "print(model.summary())"
      ],
      "metadata": {
        "colab": {
          "base_uri": "https://localhost:8080/"
        },
        "id": "FMcoSLUuHQ7k",
        "outputId": "316ac5a1-08a6-4ab6-8669-9fa7f26eecf7"
      },
      "execution_count": 104,
      "outputs": [
        {
          "output_type": "stream",
          "name": "stdout",
          "text": [
            "Model: \"sequential_11\"\n",
            "_________________________________________________________________\n",
            " Layer (type)                Output Shape              Param #   \n",
            "=================================================================\n",
            " dense_44 (Dense)            (None, 100)               3100      \n",
            "                                                                 \n",
            " dense_45 (Dense)            (None, 100)               10100     \n",
            "                                                                 \n",
            " dropout_8 (Dropout)         (None, 100)               0         \n",
            "                                                                 \n",
            " dense_46 (Dense)            (None, 100)               10100     \n",
            "                                                                 \n",
            " dropout_9 (Dropout)         (None, 100)               0         \n",
            "                                                                 \n",
            " dense_47 (Dense)            (None, 2)                 202       \n",
            "                                                                 \n",
            "=================================================================\n",
            "Total params: 23,502\n",
            "Trainable params: 23,502\n",
            "Non-trainable params: 0\n",
            "_________________________________________________________________\n",
            "None\n"
          ]
        }
      ]
    },
    {
      "cell_type": "code",
      "source": [
        "loss = model.fit(X_train, y_train1, batch_size=128, epochs=5, validation_split=0.5, callbacks=[], verbose=1)\n",
        "score = model.evaluate(X_test, y_test1, verbose=0)\n",
        "print(\"score=\", score)"
      ],
      "metadata": {
        "colab": {
          "base_uri": "https://localhost:8080/"
        },
        "id": "ey4Zt7xLHQ5S",
        "outputId": "cbaf7baf-7b4d-40c0-bbcb-5bc1d21f31a8"
      },
      "execution_count": 105,
      "outputs": [
        {
          "output_type": "stream",
          "name": "stdout",
          "text": [
            "Epoch 1/5\n",
            "668/668 [==============================] - 3s 4ms/step - loss: 26.2438 - accuracy: 0.9955 - f1_scor: 0.9955 - val_loss: 3.5990 - val_accuracy: 0.9982 - val_f1_scor: 0.9982\n",
            "Epoch 2/5\n",
            "668/668 [==============================] - 3s 5ms/step - loss: 2.0826 - accuracy: 0.9962 - f1_scor: 0.9962 - val_loss: 0.1474 - val_accuracy: 0.9982 - val_f1_scor: 0.9982\n",
            "Epoch 3/5\n",
            "668/668 [==============================] - 3s 5ms/step - loss: 0.0699 - accuracy: 0.9979 - f1_scor: 0.9979 - val_loss: 0.0151 - val_accuracy: 0.9982 - val_f1_scor: 0.9982\n",
            "Epoch 4/5\n",
            "668/668 [==============================] - 3s 4ms/step - loss: 0.0133 - accuracy: 0.9984 - f1_scor: 0.9984 - val_loss: 0.0145 - val_accuracy: 0.9982 - val_f1_scor: 0.9982\n",
            "Epoch 5/5\n",
            "668/668 [==============================] - 3s 4ms/step - loss: 0.0121 - accuracy: 0.9984 - f1_scor: 0.9984 - val_loss: 0.0147 - val_accuracy: 0.9982 - val_f1_scor: 0.9982\n",
            "score= [0.013006494380533695, 0.9982268810272217, 0.9982278347015381]\n"
          ]
        }
      ]
    },
    {
      "cell_type": "markdown",
      "source": [
        "loss is reduced after using dropouts"
      ],
      "metadata": {
        "id": "ARXpOFzpfBXd"
      }
    },
    {
      "cell_type": "code",
      "source": [
        "# 4. Implement anomaly detection algorithms.\n",
        "\n",
        "gm = GaussianMixture(n_components = 2, covariance_type = 'full', random_state=0 )\n",
        "y = df.Class\n",
        "X = df.drop('Class', axis=1)\n",
        "gm.fit(X_train)"
      ],
      "metadata": {
        "colab": {
          "base_uri": "https://localhost:8080/"
        },
        "id": "yzYWw10qfARF",
        "outputId": "59fd3599-0a1e-4582-e7ed-86b31292849a"
      },
      "execution_count": 106,
      "outputs": [
        {
          "output_type": "execute_result",
          "data": {
            "text/plain": [
              "GaussianMixture(n_components=2, random_state=0)"
            ]
          },
          "metadata": {},
          "execution_count": 106
        }
      ]
    },
    {
      "cell_type": "code",
      "source": [
        "score=gm.predict_proba(X_train)\n",
        "score"
      ],
      "metadata": {
        "colab": {
          "base_uri": "https://localhost:8080/"
        },
        "id": "X1mL9ou_HQ27",
        "outputId": "2f90f16d-6614-492a-a91a-b098e7e0b7cf"
      },
      "execution_count": 107,
      "outputs": [
        {
          "output_type": "execute_result",
          "data": {
            "text/plain": [
              "array([[1.00380848e-019, 1.00000000e+000],\n",
              "       [1.00000000e+000, 2.51027158e-223],\n",
              "       [2.02837752e-015, 1.00000000e+000],\n",
              "       ...,\n",
              "       [1.00000000e+000, 1.20436296e-051],\n",
              "       [7.49027556e-016, 1.00000000e+000],\n",
              "       [1.00000000e+000, 3.10877838e-078]])"
            ]
          },
          "metadata": {},
          "execution_count": 107
        }
      ]
    },
    {
      "cell_type": "code",
      "source": [
        "score1=[score[i][0] for i in range(X_train.shape[0])]\n",
        "score2=[score[i][1] for i in range(X_train.shape[0])]"
      ],
      "metadata": {
        "id": "fLkrNihWHQ0u"
      },
      "execution_count": 108,
      "outputs": []
    },
    {
      "cell_type": "code",
      "source": [
        "df2=X_train\n",
        "df2['class']=y_train\n",
        "df2['score1']=score1\n",
        "df2['score2']=score2\n",
        "not_fraud = df2[df2['class']==0]\n",
        "fraud = df2[df2['class']==1]"
      ],
      "metadata": {
        "id": "tTzFqBexhmE4"
      },
      "execution_count": 109,
      "outputs": []
    },
    {
      "cell_type": "code",
      "source": [
        "plt.figure(figsize=(20,10))\n",
        "plt.subplots_adjust(hspace=25)\n",
        "plt.subplot(1,2,1)\n",
        "plt.title('probability for observation to be drawing from the first gaussian')\n",
        "plt.plot(not_fraud.score1,'bo')\n",
        "plt.title('not fraud')\n",
        "plt.subplot(1,2,2)\n",
        "plt.plot(fraud.score1,'bo')\n",
        "plt.title('fraud')\n",
        "plt.show()"
      ],
      "metadata": {
        "id": "eNq-Y--Ihl3V",
        "colab": {
          "base_uri": "https://localhost:8080/",
          "height": 607
        },
        "outputId": "a5f8d8d9-b512-451e-8b11-2e34b154cd2c"
      },
      "execution_count": 110,
      "outputs": [
        {
          "output_type": "display_data",
          "data": {
            "text/plain": [
              "<Figure size 1440x720 with 2 Axes>"
            ],
            "image/png": "[encoded data removed]"
          },
          "metadata": {
            "needs_background": "light"
          }
        }
      ]
    },
    {
      "cell_type": "code",
      "source": [
        "threshold1 = np.percentile(score1, 1)\n",
        "threshold1"
      ],
      "metadata": {
        "id": "yR8I3TyHhl1B",
        "colab": {
          "base_uri": "https://localhost:8080/"
        },
        "outputId": "25302119-7b87-4420-e782-b1bf1ef35250"
      },
      "execution_count": 111,
      "outputs": [
        {
          "output_type": "execute_result",
          "data": {
            "text/plain": [
              "9.234769091808122e-21"
            ]
          },
          "metadata": {},
          "execution_count": 111
        }
      ]
    },
    {
      "cell_type": "code",
      "source": [
        "#\n",
        "score=score1<threshold1\n",
        "X_train['score']=score\n",
        "print('We can add the score variable as a feature in order to see whether the capability of our models get improved')"
      ],
      "metadata": {
        "colab": {
          "base_uri": "https://localhost:8080/"
        },
        "id": "J5n9Nf9HZoeC",
        "outputId": "f653ff87-2dcb-47ec-9257-8aa3600b2233"
      },
      "execution_count": 112,
      "outputs": [
        {
          "output_type": "stream",
          "name": "stdout",
          "text": [
            "We can add the score variable as a feature in order to see whether the capability of our models get improved\n"
          ]
        }
      ]
    },
    {
      "cell_type": "code",
      "source": [
        "model = Sequential()\n",
        "model.add(Dense(100,input_dim=X_train.shape[1], activation='relu'))\n",
        "\n",
        "model.add(Dense(100, activation='relu'))\n",
        "model.add(Dropout(0.2))\n",
        "model.add(Dense(100, activation='relu'))\n",
        "model.add(Dropout(0.2))\n",
        "model.add(Dense(2, activation='softmax'))\n",
        "model.compile(loss='categorical_crossentropy', optimizer='adam', metrics=['accuracy',f1_scor])\n",
        "\n",
        "print(model.summary())"
      ],
      "metadata": {
        "colab": {
          "base_uri": "https://localhost:8080/"
        },
        "id": "bzIVRoJyZoao",
        "outputId": "85f3c717-2d4f-4ffd-ce03-428505ad205e"
      },
      "execution_count": 113,
      "outputs": [
        {
          "output_type": "stream",
          "name": "stdout",
          "text": [
            "Model: \"sequential_12\"\n",
            "_________________________________________________________________\n",
            " Layer (type)                Output Shape              Param #   \n",
            "=================================================================\n",
            " dense_48 (Dense)            (None, 100)               3500      \n",
            "                                                                 \n",
            " dense_49 (Dense)            (None, 100)               10100     \n",
            "                                                                 \n",
            " dropout_10 (Dropout)        (None, 100)               0         \n",
            "                                                                 \n",
            " dense_50 (Dense)            (None, 100)               10100     \n",
            "                                                                 \n",
            " dropout_11 (Dropout)        (None, 100)               0         \n",
            "                                                                 \n",
            " dense_51 (Dense)            (None, 2)                 202       \n",
            "                                                                 \n",
            "=================================================================\n",
            "Total params: 23,902\n",
            "Trainable params: 23,902\n",
            "Non-trainable params: 0\n",
            "_________________________________________________________________\n",
            "None\n"
          ]
        }
      ]
    },
    {
      "cell_type": "code",
      "source": [
        "y_train2 = to_categorical(y_train1)\n",
        "y_test2 = to_categorical(y_test1)\n",
        "loss = model.fit(X_train, y_train2, batch_size=128, epochs=5, validation_split=0.5, callbacks=[], verbose=1)\n",
        "score = model.evaluate(X_test, y_test2, verbose=0)\n",
        "print(\"score=\", score)"
      ],
      "metadata": {
        "id": "p6he-9irZoVK"
      },
      "execution_count": 114,
      "outputs": []
    },
    {
      "cell_type": "markdown",
      "source": [
        "score= [0.02435659032036, 0.99234560272217, 0.99822783123456]"
      ],
      "metadata": {
        "id": "1-Uycy_qftSw"
      }
    },
    {
      "cell_type": "markdown",
      "source": [
        "F1 Score does not improve any better"
      ],
      "metadata": {
        "id": "yECcBCXbfhRA"
      }
    }
  ]
}